{
 "cells": [
  {
   "cell_type": "code",
   "execution_count": 3,
   "metadata": {},
   "outputs": [
    {
     "name": "stderr",
     "output_type": "stream",
     "text": [
      "WARNING: Skipping googletrans as it is not installed.\n"
     ]
    },
    {
     "name": "stdout",
     "output_type": "stream",
     "text": [
      "Defaulting to user installation because normal site-packages is not writeable\n",
      "Collecting googletrans\n",
      "  Using cached googletrans-3.0.0-py3-none-any.whl\n",
      "Requirement already satisfied: httpx==0.13.3 in c:\\users\\41222\\appdata\\roaming\\python\\python312\\site-packages (from googletrans) (0.13.3)\n",
      "Requirement already satisfied: certifi in c:\\program files\\python312\\lib\\site-packages (from httpx==0.13.3->googletrans) (2024.7.4)\n",
      "Requirement already satisfied: hstspreload in c:\\users\\41222\\appdata\\roaming\\python\\python312\\site-packages (from httpx==0.13.3->googletrans) (2024.8.1)\n",
      "Requirement already satisfied: sniffio in c:\\users\\41222\\appdata\\roaming\\python\\python312\\site-packages (from httpx==0.13.3->googletrans) (1.3.1)\n",
      "Requirement already satisfied: chardet==3.* in c:\\users\\41222\\appdata\\roaming\\python\\python312\\site-packages (from httpx==0.13.3->googletrans) (3.0.4)\n",
      "Requirement already satisfied: idna==2.* in c:\\users\\41222\\appdata\\roaming\\python\\python312\\site-packages (from httpx==0.13.3->googletrans) (2.10)\n",
      "Requirement already satisfied: rfc3986<2,>=1.3 in c:\\users\\41222\\appdata\\roaming\\python\\python312\\site-packages (from httpx==0.13.3->googletrans) (1.5.0)\n",
      "Requirement already satisfied: httpcore==0.9.* in c:\\users\\41222\\appdata\\roaming\\python\\python312\\site-packages (from httpx==0.13.3->googletrans) (0.9.1)\n",
      "Requirement already satisfied: h11<0.10,>=0.8 in c:\\users\\41222\\appdata\\roaming\\python\\python312\\site-packages (from httpcore==0.9.*->httpx==0.13.3->googletrans) (0.9.0)\n",
      "Requirement already satisfied: h2==3.* in c:\\users\\41222\\appdata\\roaming\\python\\python312\\site-packages (from httpcore==0.9.*->httpx==0.13.3->googletrans) (3.2.0)\n",
      "Requirement already satisfied: hyperframe<6,>=5.2.0 in c:\\users\\41222\\appdata\\roaming\\python\\python312\\site-packages (from h2==3.*->httpcore==0.9.*->httpx==0.13.3->googletrans) (5.2.0)\n",
      "Requirement already satisfied: hpack<4,>=3.0 in c:\\users\\41222\\appdata\\roaming\\python\\python312\\site-packages (from h2==3.*->httpcore==0.9.*->httpx==0.13.3->googletrans) (3.0.0)\n",
      "Installing collected packages: googletrans\n",
      "Successfully installed googletrans-3.0.0\n"
     ]
    }
   ],
   "source": [
    "!pip uninstall googletrans -y\n",
    "!pip install googletrans"
   ]
  },
  {
   "cell_type": "code",
   "execution_count": 4,
   "metadata": {},
   "outputs": [
    {
     "name": "stdout",
     "output_type": "stream",
     "text": [
      "Translation Error: 'NoneType' object has no attribute 'group'\n",
      "Translation Error: 'NoneType' object has no attribute 'group'\n",
      "Translation Error: 'NoneType' object has no attribute 'group'\n",
      "Translation Error: 'NoneType' object has no attribute 'group'\n",
      "Translation Error: 'NoneType' object has no attribute 'group'\n",
      "Translation Error: 'NoneType' object has no attribute 'group'\n"
     ]
    },
    {
     "ename": "KeyboardInterrupt",
     "evalue": "",
     "output_type": "error",
     "traceback": [
      "\u001b[1;31m---------------------------------------------------------------------------\u001b[0m",
      "\u001b[1;31mAttributeError\u001b[0m                            Traceback (most recent call last)",
      "\u001b[1;32mc:\\GitHub_Repos\\jay-singhvi\\schas-2024-asthama-2.0\\translate_to_english.ipynb Cell 2\u001b[0m line \u001b[0;36m2\n\u001b[0;32m     <a href='vscode-notebook-cell:/c%3A/GitHub_Repos/jay-singhvi/schas-2024-asthama-2.0/translate_to_english.ipynb#W3sZmlsZQ%3D%3D?line=26'>27</a>\u001b[0m \u001b[39mtry\u001b[39;00m:\n\u001b[1;32m---> <a href='vscode-notebook-cell:/c%3A/GitHub_Repos/jay-singhvi/schas-2024-asthama-2.0/translate_to_english.ipynb#W3sZmlsZQ%3D%3D?line=27'>28</a>\u001b[0m     \u001b[39mreturn\u001b[39;00m translator\u001b[39m.\u001b[39;49mtranslate(text, src\u001b[39m=\u001b[39;49m\u001b[39m\"\u001b[39;49m\u001b[39mko\u001b[39;49m\u001b[39m\"\u001b[39;49m, dest\u001b[39m=\u001b[39;49m\u001b[39m\"\u001b[39;49m\u001b[39men\u001b[39;49m\u001b[39m\"\u001b[39;49m)\u001b[39m.\u001b[39mtext\n\u001b[0;32m     <a href='vscode-notebook-cell:/c%3A/GitHub_Repos/jay-singhvi/schas-2024-asthama-2.0/translate_to_english.ipynb#W3sZmlsZQ%3D%3D?line=28'>29</a>\u001b[0m \u001b[39mexcept\u001b[39;00m \u001b[39mException\u001b[39;00m \u001b[39mas\u001b[39;00m e:\n",
      "File \u001b[1;32m~\\AppData\\Roaming\\Python\\Python312\\site-packages\\googletrans\\client.py:182\u001b[0m, in \u001b[0;36mTranslator.translate\u001b[1;34m(self, text, dest, src, **kwargs)\u001b[0m\n\u001b[0;32m    181\u001b[0m origin \u001b[39m=\u001b[39m text\n\u001b[1;32m--> 182\u001b[0m data \u001b[39m=\u001b[39m \u001b[39mself\u001b[39;49m\u001b[39m.\u001b[39;49m_translate(text, dest, src, kwargs)\n\u001b[0;32m    184\u001b[0m \u001b[39m# this code will be updated when the format is changed.\u001b[39;00m\n",
      "File \u001b[1;32m~\\AppData\\Roaming\\Python\\Python312\\site-packages\\googletrans\\client.py:78\u001b[0m, in \u001b[0;36mTranslator._translate\u001b[1;34m(self, text, dest, src, override)\u001b[0m\n\u001b[0;32m     77\u001b[0m \u001b[39mdef\u001b[39;00m \u001b[39m_translate\u001b[39m(\u001b[39mself\u001b[39m, text, dest, src, override):\n\u001b[1;32m---> 78\u001b[0m     token \u001b[39m=\u001b[39m \u001b[39mself\u001b[39;49m\u001b[39m.\u001b[39;49mtoken_acquirer\u001b[39m.\u001b[39;49mdo(text)\n\u001b[0;32m     79\u001b[0m     params \u001b[39m=\u001b[39m utils\u001b[39m.\u001b[39mbuild_params(query\u001b[39m=\u001b[39mtext, src\u001b[39m=\u001b[39msrc, dest\u001b[39m=\u001b[39mdest,\n\u001b[0;32m     80\u001b[0m                                 token\u001b[39m=\u001b[39mtoken, override\u001b[39m=\u001b[39moverride)\n",
      "File \u001b[1;32m~\\AppData\\Roaming\\Python\\Python312\\site-packages\\googletrans\\gtoken.py:194\u001b[0m, in \u001b[0;36mTokenAcquirer.do\u001b[1;34m(self, text)\u001b[0m\n\u001b[0;32m    193\u001b[0m \u001b[39mdef\u001b[39;00m \u001b[39mdo\u001b[39m(\u001b[39mself\u001b[39m, text):\n\u001b[1;32m--> 194\u001b[0m     \u001b[39mself\u001b[39;49m\u001b[39m.\u001b[39;49m_update()\n\u001b[0;32m    195\u001b[0m     tk \u001b[39m=\u001b[39m \u001b[39mself\u001b[39m\u001b[39m.\u001b[39macquire(text)\n",
      "File \u001b[1;32m~\\AppData\\Roaming\\Python\\Python312\\site-packages\\googletrans\\gtoken.py:62\u001b[0m, in \u001b[0;36mTokenAcquirer._update\u001b[1;34m(self)\u001b[0m\n\u001b[0;32m     61\u001b[0m \u001b[39m# this will be the same as python code after stripping out a reserved word 'var'\u001b[39;00m\n\u001b[1;32m---> 62\u001b[0m code \u001b[39m=\u001b[39m \u001b[39mself\u001b[39;49m\u001b[39m.\u001b[39;49mRE_TKK\u001b[39m.\u001b[39;49msearch(r\u001b[39m.\u001b[39;49mtext)\u001b[39m.\u001b[39;49mgroup(\u001b[39m1\u001b[39m)\u001b[39m.\u001b[39mreplace(\u001b[39m'\u001b[39m\u001b[39mvar \u001b[39m\u001b[39m'\u001b[39m, \u001b[39m'\u001b[39m\u001b[39m'\u001b[39m)\n\u001b[0;32m     63\u001b[0m \u001b[39m# unescape special ascii characters such like a \\x3d(=)\u001b[39;00m\n",
      "\u001b[1;31mAttributeError\u001b[0m: 'NoneType' object has no attribute 'group'",
      "\nDuring handling of the above exception, another exception occurred:\n",
      "\u001b[1;31mKeyboardInterrupt\u001b[0m                         Traceback (most recent call last)",
      "\u001b[1;32mc:\\GitHub_Repos\\jay-singhvi\\schas-2024-asthama-2.0\\translate_to_english.ipynb Cell 2\u001b[0m line \u001b[0;36m5\n\u001b[0;32m     <a href='vscode-notebook-cell:/c%3A/GitHub_Repos/jay-singhvi/schas-2024-asthama-2.0/translate_to_english.ipynb#W3sZmlsZQ%3D%3D?line=49'>50</a>\u001b[0m occupations \u001b[39m=\u001b[39m df[\u001b[39m\"\u001b[39m\u001b[39moccupation\u001b[39m\u001b[39m\"\u001b[39m]\u001b[39m.\u001b[39mtolist()\n\u001b[0;32m     <a href='vscode-notebook-cell:/c%3A/GitHub_Repos/jay-singhvi/schas-2024-asthama-2.0/translate_to_english.ipynb#W3sZmlsZQ%3D%3D?line=51'>52</a>\u001b[0m \u001b[39m# Translate valid occupations\u001b[39;00m\n\u001b[0;32m     <a href='vscode-notebook-cell:/c%3A/GitHub_Repos/jay-singhvi/schas-2024-asthama-2.0/translate_to_english.ipynb#W3sZmlsZQ%3D%3D?line=52'>53</a>\u001b[0m translated_occupations \u001b[39m=\u001b[39m [\n\u001b[1;32m---> <a href='vscode-notebook-cell:/c%3A/GitHub_Repos/jay-singhvi/schas-2024-asthama-2.0/translate_to_english.ipynb#W3sZmlsZQ%3D%3D?line=53'>54</a>\u001b[0m     \u001b[39m\"\u001b[39m\u001b[39mEmpty\u001b[39m\u001b[39m\"\u001b[39m \u001b[39mif\u001b[39;00m \u001b[39mnot\u001b[39;00m is_valid_for_translation(text) \u001b[39melse\u001b[39;00m translate_with_fallback(text)\n\u001b[0;32m     <a href='vscode-notebook-cell:/c%3A/GitHub_Repos/jay-singhvi/schas-2024-asthama-2.0/translate_to_english.ipynb#W3sZmlsZQ%3D%3D?line=54'>55</a>\u001b[0m     \u001b[39mfor\u001b[39;00m text \u001b[39min\u001b[39;00m occupations\n\u001b[0;32m     <a href='vscode-notebook-cell:/c%3A/GitHub_Repos/jay-singhvi/schas-2024-asthama-2.0/translate_to_english.ipynb#W3sZmlsZQ%3D%3D?line=55'>56</a>\u001b[0m ]\n\u001b[0;32m     <a href='vscode-notebook-cell:/c%3A/GitHub_Repos/jay-singhvi/schas-2024-asthama-2.0/translate_to_english.ipynb#W3sZmlsZQ%3D%3D?line=57'>58</a>\u001b[0m \u001b[39m# Add the translated occupations as a new column\u001b[39;00m\n\u001b[0;32m     <a href='vscode-notebook-cell:/c%3A/GitHub_Repos/jay-singhvi/schas-2024-asthama-2.0/translate_to_english.ipynb#W3sZmlsZQ%3D%3D?line=58'>59</a>\u001b[0m df[\u001b[39m\"\u001b[39m\u001b[39moccupation_english\u001b[39m\u001b[39m\"\u001b[39m] \u001b[39m=\u001b[39m translated_occupations\n",
      "\u001b[1;32mc:\\GitHub_Repos\\jay-singhvi\\schas-2024-asthama-2.0\\translate_to_english.ipynb Cell 2\u001b[0m line \u001b[0;36m3\n\u001b[0;32m     <a href='vscode-notebook-cell:/c%3A/GitHub_Repos/jay-singhvi/schas-2024-asthama-2.0/translate_to_english.ipynb#W3sZmlsZQ%3D%3D?line=28'>29</a>\u001b[0m \u001b[39mexcept\u001b[39;00m \u001b[39mException\u001b[39;00m \u001b[39mas\u001b[39;00m e:\n\u001b[0;32m     <a href='vscode-notebook-cell:/c%3A/GitHub_Repos/jay-singhvi/schas-2024-asthama-2.0/translate_to_english.ipynb#W3sZmlsZQ%3D%3D?line=29'>30</a>\u001b[0m     \u001b[39mprint\u001b[39m(\u001b[39mf\u001b[39m\u001b[39m\"\u001b[39m\u001b[39mTranslation Error: \u001b[39m\u001b[39m{\u001b[39;00me\u001b[39m}\u001b[39;00m\u001b[39m\"\u001b[39m)\n\u001b[1;32m---> <a href='vscode-notebook-cell:/c%3A/GitHub_Repos/jay-singhvi/schas-2024-asthama-2.0/translate_to_english.ipynb#W3sZmlsZQ%3D%3D?line=30'>31</a>\u001b[0m     time\u001b[39m.\u001b[39;49msleep(\u001b[39m1\u001b[39;49m)  \u001b[39m# Wait for 1 second before retrying\u001b[39;00m\n\u001b[0;32m     <a href='vscode-notebook-cell:/c%3A/GitHub_Repos/jay-singhvi/schas-2024-asthama-2.0/translate_to_english.ipynb#W3sZmlsZQ%3D%3D?line=32'>33</a>\u001b[0m \u001b[39mreturn\u001b[39;00m \u001b[39m\"\u001b[39m\u001b[39mTranslation Failed\u001b[39m\u001b[39m\"\u001b[39m\n",
      "\u001b[1;31mKeyboardInterrupt\u001b[0m: "
     ]
    }
   ],
   "source": [
    "import pandas as pd\n",
    "from googletrans import Translator\n",
    "import time\n",
    "\n",
    "# Create a translator object\n",
    "translator = Translator()\n",
    "\n",
    "# Dictionary of common Korean occupations and their English translations\n",
    "COMMON_OCCUPATIONS = {\n",
    "    \"교사\": \"Teacher\",\n",
    "    \"의사\": \"Doctor\",\n",
    "    \"변호사\": \"Lawyer\",\n",
    "    \"엔지니어\": \"Engineer\",\n",
    "    \"회계사\": \"Accountant\",\n",
    "    # Add more common occupations as needed\n",
    "}\n",
    "\n",
    "\n",
    "def is_valid_for_translation(text):\n",
    "    return text and text.strip() not in [\"\", \"-\"]\n",
    "\n",
    "\n",
    "def translate_with_fallback(text):\n",
    "    if text in COMMON_OCCUPATIONS:\n",
    "        return COMMON_OCCUPATIONS[text]\n",
    "\n",
    "    try:\n",
    "        return translator.translate(text, src=\"ko\", dest=\"en\").text\n",
    "    except Exception as e:\n",
    "        print(f\"Translation Error: {e}\")\n",
    "        time.sleep(1)  # Wait for 1 second before retrying\n",
    "\n",
    "    return \"Translation Failed\"\n",
    "\n",
    "\n",
    "# Function to translate a list of texts from Korean to English\n",
    "def bulk_translate_korean_to_english(texts):\n",
    "    return [\n",
    "        translate_with_fallback(text)\n",
    "        for text in texts\n",
    "        if is_valid_for_translation(text)\n",
    "    ]\n",
    "\n",
    "\n",
    "# Load your DataFrame (replace 'your_data.csv' with your actual file)\n",
    "df = pd.read_csv(\"2024-Data-Cleaned/asthma_patient_medinfo.csv\")\n",
    "\n",
    "# Assuming your column name is 'occupation'\n",
    "# Get the list of occupations\n",
    "occupations = df[\"occupation\"].tolist()\n",
    "\n",
    "# Translate valid occupations\n",
    "translated_occupations = [\n",
    "    \"Empty\" if not is_valid_for_translation(text) else translate_with_fallback(text)\n",
    "    for text in occupations\n",
    "]\n",
    "\n",
    "# Add the translated occupations as a new column\n",
    "df[\"occupation_english\"] = translated_occupations\n",
    "\n",
    "# Save the updated DataFrame\n",
    "df.to_csv(\"translated_data.csv\", index=False)\n",
    "\n",
    "print(\"Translation complete. Check 'translated_data.csv' for results.\")"
   ]
  },
  {
   "cell_type": "code",
   "execution_count": null,
   "metadata": {},
   "outputs": [],
   "source": [
    "display(df)"
   ]
  }
 ],
 "metadata": {
  "kernelspec": {
   "display_name": "Python 3",
   "language": "python",
   "name": "python3"
  },
  "language_info": {
   "codemirror_mode": {
    "name": "ipython",
    "version": 3
   },
   "file_extension": ".py",
   "mimetype": "text/x-python",
   "name": "python",
   "nbconvert_exporter": "python",
   "pygments_lexer": "ipython3",
   "version": "3.12.4"
  }
 },
 "nbformat": 4,
 "nbformat_minor": 2
}
